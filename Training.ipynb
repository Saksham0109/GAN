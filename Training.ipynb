{
 "cells": [
  {
   "cell_type": "code",
   "execution_count": 1,
   "metadata": {},
   "outputs": [],
   "source": [
    "import torch.nn as nn\n",
    "import torch\n",
    "from tqdm import tqdm_notebook as tqdm\n",
    "from torch.utils.data import DataLoader\n",
    "from torch.utils.tensorboard import SummaryWriter\n",
    "import torchvision.datasets\n",
    "import torchvision.transforms as transforms\n",
    "import torchvision"
   ]
  },
  {
   "cell_type": "code",
   "execution_count": 1,
   "metadata": {},
   "outputs": [],
   "source": [
    "from DCGAN import *"
   ]
  },
  {
   "cell_type": "code",
   "execution_count": null,
   "metadata": {},
   "outputs": [],
   "source": [
    "dataset=torchvision.datasets.MNIST(root='dataset/',download=True,transform=transforms.ToTensor())\n",
    "loader=DataLoader(dataset,batch_size=128,shuffle=True)"
   ]
  },
  {
   "cell_type": "code",
   "execution_count": null,
   "metadata": {},
   "outputs": [],
   "source": [
    "criterion=nn.BCEWithLogitsLoss()\n",
    "epochs=100\n",
    "z_dim=64\n",
    "device=\"cuda\"\n",
    "lr=0.0001\n",
    "image_dim=28*28*1\n",
    "batch_size=128\n",
    "\n"
   ]
  },
  {
   "cell_type": "code",
   "execution_count": null,
   "metadata": {},
   "outputs": [],
   "source": [
    "disc=Discriminator(image_dim).to(device)\n",
    "gen=Generator(z_dim,image_dim).to(device)\n",
    "opt_disc=torch.optim.Adam(disc.parameters(),lr=lr)\n",
    "opt_gen=torch.optim.Adam(gen.parameters(),lr=lr)\n",
    "writer_fake=SummaryWriter(\"fake\")\n",
    "writer_real=SummaryWriter(\"real\")\n"
   ]
  },
  {
   "cell_type": "code",
   "execution_count": null,
   "metadata": {},
   "outputs": [],
   "source": [
    "for epoch in range(epochs):\n",
    "    for batch_id,(real,_) in enumerate(loader):\n",
    "        real=real.view(-1,784).to(device)\n",
    "        noise=torch.randn(batch_size,z_dim).to(device)\n",
    "        fake=gen(noise)\n",
    "        disc_real=disc(real).view(-1)\n",
    "        lossD_real=criterion(disc_real,torch.ones_like(disc_real))\n",
    "        disc_fake=disc(fake).view(-1)\n",
    "        lossD_fake=criterion(disc_fake,torch.zeros_like(disc_fake))\n",
    "        lossD=(lossD_real+lossD_fake)/2\n",
    "        disc.zero_grad()\n",
    "        lossD.backward(retain_graph=True)\n",
    "        opt_disc.step()\n",
    "\n",
    "        output=disc(fake).view(-1)\n",
    "        lossG=criterion(output,torch.ones_like(output))\n",
    "        gen.zero_grad()\n",
    "        lossG.backward()\n",
    "        opt_gen.step()\n",
    "\n",
    "        if(batch_id==0):\n",
    "            with torch.no_grad():\n",
    "                fake=gen(noise).reshape(-1,1,28,28)\n",
    "                data=real.reshape(-1,1,28,28)\n",
    "                img_grid_fake=torchvision.utils.make_grid(fake[:32],normalize=True)\n",
    "                img_grid_real=torchvision.utils.make_grid(data[:32],normalize=True)\n",
    "                writer_fake.add_image(\"MNIST Fake Images\",img_grid_fake,global_step=epoch)\n",
    "                writer_real.add_image(\"MNIST Real Images\",img_grid_real,global_step=epoch)\n",
    "                print(f\"Epoch [{epoch}/{epochs}] Batch {batch_id}/{len(loader)} Loss D: {lossD:.4f}, loss G: {lossG:.4f}\")\n",
    "\n",
    "\n",
    "        "
   ]
  }
 ],
 "metadata": {
  "kernelspec": {
   "display_name": "base",
   "language": "python",
   "name": "python3"
  },
  "language_info": {
   "codemirror_mode": {
    "name": "ipython",
    "version": 3
   },
   "file_extension": ".py",
   "mimetype": "text/x-python",
   "name": "python",
   "nbconvert_exporter": "python",
   "pygments_lexer": "ipython3",
   "version": "3.9.10 | packaged by conda-forge | (main, Feb  1 2022, 21:28:27) \n[Clang 11.1.0 ]"
  },
  "orig_nbformat": 4,
  "vscode": {
   "interpreter": {
    "hash": "fc1bfebef4bde096bcca5b7212ac51dad80d152ee96bf3e05c42062f71dce39e"
   }
  }
 },
 "nbformat": 4,
 "nbformat_minor": 2
}
